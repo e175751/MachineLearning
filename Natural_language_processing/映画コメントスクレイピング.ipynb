{
 "cells": [
  {
   "cell_type": "code",
   "execution_count": 1,
   "metadata": {},
   "outputs": [],
   "source": [
    "from urllib.request import urlopen\n",
    "from urllib.error import HTTPError\n",
    "from bs4 import BeautifulSoup\n",
    "import time\n",
    "import MySQLdb"
   ]
  },
  {
   "cell_type": "code",
   "execution_count": 42,
   "metadata": {
    "scrolled": true
   },
   "outputs": [
    {
     "name": "stdout",
     "output_type": "stream",
     "text": [
      "\n",
      "ルルーシュが復活することによって、反逆のルルーシュの伏線が活きた形になり作品の厚みが高まった。復活ラストのL.L.の台詞に喚起されてC.C.との契約時のセリフを確認する為にTV版を1話から見返したが、結末を知ってから見るとバックボーンや細部の完成度が優れた作品だったと気付いた。最終回エンディグの絵の順番にも2人の不老不死の結末が含まれていたのには驚いた、気付かれなかったら無駄に終わるかもしれない伏線がこんなにもあったのか。見てる側に考えさせる作品も好みなのでTV版の最終回は好きだけど、やはり張った伏線を堂々と回収されると気持ちが良いものである。また僕は創作の恋愛に疎く、それでもルルーシュがC.C.を好きなのはR2の15話でさすがに分かったのだが、反逆を見返すと思ってたより初期から恋してたというのが理解できて面白かった、1期15話は特に恋愛色が強い回だ。契約→約束→プロポーズに繋がる2人の関係はとても綺麗だった。物語の構造を深く理解していた人からすると最終回でC.C.との約束の行方というしこりも無く既に完結してた作品だったのかもしれないが、鈍い僕からしたらルルーシュも、C.C.も、彼の物語も復活で完成されて、そして終わったんだ。\n"
     ]
    }
   ],
   "source": [
    "urls = \"https://movies.yahoo.co.jp\"\n",
    "next_urls = \"/movie/358894/review/1033/?c=1&sort=lrf\"\n",
    "\n",
    "html = urlopen(urls + next_urls)\n",
    "soup = BeautifulSoup(html,\"html.parser\")\n",
    "count = 0\n",
    "Previous_url = \"\"\n",
    "\n",
    "with open('test5.txt', 'w') as f:\n",
    "    while (20):\n",
    "        if(count < 20):\n",
    "            Previous_url = next_urls\n",
    "            review = soup(class_=\"text-small text-break text-readable p1em\")\n",
    "            for i in review:\n",
    "                print(i.text)\n",
    "                f.write(i.text)\n",
    "            class_link = soup.find_all(class_=\"listview__element--right-icon\")\n",
    "            for a in class_link:\n",
    "                next_urls = a.attrs['href']\n",
    "                html = urlopen(urls + next_urls)\n",
    "                soup = BeautifulSoup(html,\"html.parser\")\n",
    "            break\n",
    "        else:\n",
    "            count = 0 \n",
    "            time.sleep(5)\n",
    "        count += 1\n",
    "        "
   ]
  },
  {
   "cell_type": "code",
   "execution_count": 43,
   "metadata": {},
   "outputs": [],
   "source": [
    "urls_list=[\"/movie/365978/review/5129/?c=1&sort=lrf\",\"/movie/367278/review/413/?c=1&sort=lrf\",\"/movie/364942/review/870/?c=1&sort=lrf\",\n",
    "          \"/movie/364779/review/1066/?c=1&sort=lrf\",\"/movie/366398/review/3026/?c=1&sort=lrf\",\"/movie/363753/review/3106/?c=1&sort=lrf\",\n",
    "          \"/movie/358894/review/1033/?c=1&sort=lrf\",\"/movie/365575/review/3572/?c=1&sort=lrf\",\"/movie/364877/review/4117/?c=1&sort=lrf\",\n",
    "          \"/movie/365245/review/6693/?c=1&sort=lrf\",\"/movie/363668/review/2712/?c=1&sort=lrf\",\"/movie/363376/review/2117/?c=1&sort=lrf\",\n",
    "          \"/movie/365075/review/1857/?c=1&sort=lrf\",\"/movie/363360/review/3135/?c=1&sort=lrf\",\"/movie/364767/review/2456/?c=1&sort=lrf\",\n",
    "          \"/movie/364005/review/2030/?c=1&sort=lrf\",\"/movie/361463/review/1148/?c=1&sort=lrf\",\"/movie/364313/review/2401/?c=1&sort=lrf\",\n",
    "          \"/movie/364143/review/9191/?c=1&sort=lrf\",\"/movie/363528/review/1914/?c=1&sort=lrf\",\"/movie/363764/review/15267/?c=1&sort=lrf\",\n",
    "          \"/movie/363497/review/95/?c=1&sort=lrf\",\"/movie/362741/review/8476/?c=1&sort=lrf\",\"/movie/360845/review/913/?c=1&sort=lrf\",\n",
    "          \"/movie/361183/review/1388/?c=1&sort=lrf\",\"/movie/361759/review/3364/?c=1&sort=lrf\",\"/movie/358994/review/7442/?c=1&sort=lrf\",\n",
    "          \"/movie/358186/review/5116/?c=1&sort=lrf\",\"/movie/358670/review/9062/?c=1&sort=lrf\",\"/movie/344686/review/5239/?c=1&sort=lrf\",\n",
    "          \"/movie/326527/review/5459/?c=1&sort=lrf\",\"/movie/355058/review/63044/?c=1&sort=lrf\",\"/movie/354344/review/4507/?c=1&sort=lrf\",\n",
    "          \"/movie/366943/review/646/?c=1&sort=lrf\",\"/movie/361609/review/4245/?c=1&sort=lrf\"]"
   ]
  },
  {
   "cell_type": "code",
   "execution_count": 44,
   "metadata": {
    "scrolled": true
   },
   "outputs": [],
   "source": [
    "url_list=[\"/movie/364779/review/1066/?c=1&sort=lrf\",\n",
    "          \"/movie/366398/review/3026/?c=1&sort=lrf\",\n",
    "          \"/movie/363753/review/3106/?c=1&sort=lrf\"]"
   ]
  },
  {
   "cell_type": "code",
   "execution_count": 45,
   "metadata": {
    "scrolled": true
   },
   "outputs": [
    {
     "name": "stdout",
     "output_type": "stream",
     "text": [
      "finish\n"
     ]
    }
   ],
   "source": [
    "urls = \"https://movies.yahoo.co.jp\"\n",
    "count=0\n",
    "num=0\n",
    "num_count=0\n",
    "for i in urls_list:\n",
    "    time.sleep(60)\n",
    "    Previous_url = \"\"\n",
    "    next_urls = i\n",
    "    count+=1\n",
    "    html = urlopen(urls +next_urls)\n",
    "    soup = BeautifulSoup(html,\"html.parser\")\n",
    "    title = soup.find(\"title\")\n",
    "    movie_title = title.text\n",
    "    with open(\"movie_review\" + str(count).zfill(2) + \".txt\", \"w\") as f:\n",
    "        f.write(movie_title)\n",
    "        while(num_count==300 or Previous_url != next_urls):\n",
    "            if(num<30):\n",
    "                Previous_url = next_urls\n",
    "                review = soup(class_=\"text-small text-break text-readable p1em\")\n",
    "                for i in review:\n",
    "                    #print(i.text)\n",
    "                    f.write(i.text)\n",
    "                    class_link = soup.find_all(class_=\"listview__element--right-icon\")\n",
    "                for a in class_link:\n",
    "                    next_urls = a.attrs['href']\n",
    "                    html = urlopen(urls + next_urls)\n",
    "                    soup = BeautifulSoup(html,\"html.parser\")\n",
    "            else:\n",
    "                num=0\n",
    "                time.sleep(5)\n",
    "            num+=1\n",
    "            num_count+=1\n",
    "            \n",
    "print(\"finish\")"
   ]
  },
  {
   "cell_type": "code",
   "execution_count": null,
   "metadata": {},
   "outputs": [],
   "source": [
    "urls = \"https://movies.yahoo.co.jp\"\n",
    "next_urls = \"/movie/358894/review/1033/?c=1&sort=lrf\"\n",
    "\n",
    "html = urlopen(urls + next_urls)\n",
    "soup = BeautifulSoup(html,\"html.parser\")\n",
    "count = 0\n",
    "num_count=0\n",
    "Previous_url = \"\"\n",
    "reviews_list=[]\n",
    "\n",
    "while (num_count<100):\n",
    "    if(count < 20):\n",
    "        Previous_url = next_urls\n",
    "        review = soup(class_=\"text-small text-break text-readable p1em\")\n",
    "        for i in review:\n",
    "            print(i.text)\n",
    "            reviews_list.append(i.text)\n",
    "        class_link = soup.find_all(class_=\"listview__element--right-icon\")\n",
    "        for a in class_link:\n",
    "            next_urls = a.attrs['href']\n",
    "            html = urlopen(urls + next_urls)\n",
    "            soup = BeautifulSoup(html,\"html.parser\")\n",
    "    else:\n",
    "        count = 0 \n",
    "        time.sleep(5)\n",
    "    count += 1\n",
    "    num_count+=1"
   ]
  },
  {
   "cell_type": "code",
   "execution_count": null,
   "metadata": {},
   "outputs": [],
   "source": []
  },
  {
   "cell_type": "code",
   "execution_count": 50,
   "metadata": {},
   "outputs": [],
   "source": [
    "conn = MySQLdb.connect(\n",
    "    user = \"root\",\n",
    "    passwd = \"\",\n",
    "    host = \"localhost\",\n",
    "    db = \"test\"\n",
    ")\n",
    "\n",
    "cur = conn.cursor()"
   ]
  },
  {
   "cell_type": "code",
   "execution_count": 16,
   "metadata": {},
   "outputs": [],
   "source": [
    "UrlList = [\"/90681/review/\",\"/90371/review/\",\"/90061/review/\",\"/90981/review/\",\"/90348/review/\",\"/89685/review/\",\"/89619/review/\",\"/90444/review/\",\"/90539/review/\"]\n",
    "MovieName = [\"ジョーカー\",\"イエスタデイ\",\"蜜蜂と遠雷\",\"空の青さを知る人よ\",\"ジョン・ウィック　パラベラム\",\"楽園\",\"記憶にございません！\",\"天気の子\",\"アド・アストラ\"]\n",
    "Url = \"https://eiga.com/movie\""
   ]
  },
  {
   "cell_type": "code",
   "execution_count": null,
   "metadata": {},
   "outputs": [],
   "source": []
  },
  {
   "cell_type": "code",
   "execution_count": null,
   "metadata": {},
   "outputs": [],
   "source": []
  },
  {
   "cell_type": "code",
   "execution_count": null,
   "metadata": {},
   "outputs": [],
   "source": []
  },
  {
   "cell_type": "code",
   "execution_count": null,
   "metadata": {},
   "outputs": [],
   "source": []
  },
  {
   "cell_type": "code",
   "execution_count": 46,
   "metadata": {
    "scrolled": true
   },
   "outputs": [
    {
     "name": "stdout",
     "output_type": "stream",
     "text": [
      " 題材の良さが光っている。男の妊活がどんなものか知っている人は、男でも少ないだろうし、メディアで語られる機会もほとんどない。しかし、これを観ると男性にとって全く他人事ではないことなのだとわかる。年の差夫婦が子どもを作ると決めたものの、夫の精子の運動量が足りないせいで妊娠できることが発覚。そこから、夫は精子の運動量を取り戻すべくあらゆる努力を重ねる。運動、食事改善などあらゆる努力をしても僅かな改善しかしないのを見て、こんなに大変なことなのかと驚く。やがて、それは男としての自身の喪失にもつながり、葛藤が膨らんでいく。原作者の実体験だけあって、心情がリアルに描写されている。松重豊が主人公を飄々と演じているのだが、その飄々とした裏側に情けなさややるせなさを押し殺したような芝居を見せてくれ胸をしめつける。過剰に湿っぽくせず、コミカルさも残した作風もすごく良い。 \n",
      " 49歳の作家、ヒキタと年下の妻、サチの\"妊活\"を、夫側から事細く描いた本作は、ただ、自分たちの子供が欲しいと願う彼らが挑戦する先進医療が、いかに当事者たちにとって残酷で、同時に、周囲の目がいかに冷徹かを教えてくれる。特に、ヒキタが味わう屈辱に言及した点がユーモラスで画期的だ。しかし、それより深く胸に刺さるのは、人生を賭けるに足るパートナーにめぐり逢えた男女の至福。映画初主演の松重豊が軽妙に演じるヒキタと、夫の長所も欠点もまとめて愛し、共に歩んでいこうと心に決めたサチに扮する北川景子の間に芽生える抜群のケミストリーが、物語を万人に届ける力になっている。年に何作かあるようで、実はそうでもない、休日の貴重な時間を費やして損はないウェルメイドな1作だ。 \n",
      " 当人たちにとってセンシティブな妊活を、ここまでウィットに富んだ笑いに変えられるのってすごい。とにかく配役の妙。適齢の松重豊の絶妙な心理表現、佇まい、まさに適役。濱田岳の存在も中和剤として活きていた。ヒキタさんの心のつぶやきが、どこか「井之頭五郎」の心の声に聞こえてしまう弊害もあるが、概ね気楽に楽しめる。この苦難に直面している世の中のご夫婦がどれほどの気分でこの映画を観ることができるのは、当人ではないので何も言えないが、少なくとも先人からのエールであることに異論はない。 \n",
      " 年の差婚の相思相愛の夫婦の夫目線の妊活苦労物語り。題材は画期的で妊活知識ゼロの僕には新鮮だった。ただし、若い妻の父親（伊東四郎）のみっともないという怒りの意味や理由が最後まで分からなかった。深刻なテーマを笑いを交えて上手くまとめてはいるが、もう一捻り夫婦のあいだの葛藤やストーリーの展開に起伏が有れば、最後のハッピーエンドがもっとハッピーになったような気がして少し物足りなかった。 \n",
      " 男の妊活、笑いあり涙ありでとても良い映画。もっと多くの方に見て欲しいなー。 \n",
      " 話としては分かるのですが、さて？私の周りにもこう言う30代夫婦が実際に存在しますが、描き方が少し中途半端の様な。重くならないようにと、コミカル要素を入れているのは分かるのですけど、かえって軽くなり過ぎたかなあ。金銭的にも、まだ余裕がありそうな環境の夫婦に見えてしまうし。でも、知らない人もいるだろうから、映画にすることは必要なんでしょうね。２時間なのに、ちょっと長く感じました。 \n",
      " 松重さんが好きなので鑑賞。旦那も嫁（北川）もいい画なのだが、いかんせん不妊治療ネタなので笑っていいのかシリアスなのか、どう反応していいかいまいち分からない。やや、中途半端な印象の映画。繰り返し見たいかというと微妙。 \n",
      " 涙が出た💧 \n",
      " 「コウノトリ」や「透明なゆりかご」とＴＶドラマで必ず泣かされてしまう、産婦人科系ドラマ。この作品もコミカルではありますが、その一端を担っています。特に、自分もこれからのことなので色々と考えさせられました。と、同時に少し覚悟が芽生えた気がします。 \n",
      " 悪い映画ではないが、盛り上がりが何処か分かりにくい。松重豊、北川景子はバッチリ役にはまっていたと思う。個人の感想だが、最後に北川景子が赤ちゃんを抱っこしている映像を期待していたのは、俺だけか❔ \n",
      "  ネタバレ！ クリックして本文を読む  原作未読映画化にもなった『凶気の桜』や『鳶がクルリと』のヒキタクニオ原作である原作では45歳のはずだが映画のヒキタクニオはやけに老けている演じている松重豊さんが今56だからだおそらく映画関係の偉い人たちが歳の差カップルを強調したかったのかもしれない監督を責める人も多いが監督だけで何もかも決めているわけではないことくらい映画ファンならわかるはずだろう監督が独断で決めたかもしれないがそれにしても56歳なら老化でもしかたがないよねと思えるが45歳なら「えー？もー？嘘でしょ？」と思えてしまうだから僕的には原作と同じ歳くらいの大泉洋のほうが良かったんー30過ぎたら老化かもしれないNHKの所さんの番組で自分より年下の木村佳乃が老眼だと聞かされた時はショックだった女の不妊だとコメディーにならないけど男の不妊だとコメディーになるんだね僕個人は全然笑えないけど周りは鼻で笑っている人が多かったので一般的には笑えるんだろう最初はほのぼのとしていたそれなりに涙ぐましい努力をしているが心のどこかで人工授精をやっていればそのうち懐妊できるだろうと2人も気楽に構えていたはずだそれでめでたく一度は妊娠はしたが途中で赤ちゃんはお腹の中で死んでしまった身内にもいるし他人事じゃないしこれは大ショックだよここからが涙涙の地獄であるつらく苦しい挑戦こっちまでもらい泣きした切実である北川景子はそれなりに及第点に達している役者だと僕は思う正統派の美人だし知的だし眉間が特に好きだしかしもう1ランク上の女優にはなれないものかわざとらしいとまでは思わないが泣きのシーンはもっとうまくできるはずだ恩師でもある森田芳光監督の葬儀ではあんな顔をくしゃくしゃにして泣いていたじゃないかなぜあれを芝居に生かせない？いまどき30過ぎの娘を殴る父親って世の中にいるのかな？しかもアル中のろくでなしじゃなくて社会的地位がある大学教授だいるんだろうな稀に最後の丸ポーズは今年最高でとても美しい読売球団の丸とか原監督がやっているのを見ると馬鹿じゃねーの？正気かよ？頭にぶつけられても文句言えねーぞと思うがヒキタ夫妻の丸ポーズはこっちまでほっこりした土手の桜並木がとても綺麗だった女子中学生の背負っているリュックサックを見てどこの田舎だよと思ったがロケ地は長野県塩尻の隣にある岡谷ってところらしいなぜわざわざそこまで行ったのかよくわからないが猫田直さん少し太ったかなエンドクレジットのあとにおまけがあることを期待したがなかった欲を言えば生まれた赤ちゃんを観たかった \n",
      " 重くなりがちなテーマながら、シリアスになりすぎることも笑いに走りすぎることもなく、バランスの良い作品だった。馴染みの「おぐ銀座」がそのまま出ていたことも嬉しかった。不妊治療についても少しだけ知識を深められ、もう少し知りたいなと思ったことは、これから知るきっかけとすれば良いのだろう。ちょうど妊娠中の私。今観て良かったねと主人と話している。観る人のタイミングによって異なる感想と出会える作品だと思う。いつかまた観てみたい。そのときは子どもが無事に産まれていますように。 \n",
      " サチさんのお父さんの本当に娘を思いやる気持ちが伝わってきて微笑ましく思いました。本屋さんでヒキタさんの本を並べ替えるシーンはとても良かったです。 \n",
      "  ネタバレ！ クリックして本文を読む  50歳手前の作家ヒキタクニオ（松重豊）は、ひと回り以上も若い妻サチ（北川景子）とふたり暮らし。子供など欲しくないと思っていたふたりだったが、ひょんなことから、やはり子供を作ろうと決断。妻の基礎体温に基づいて、1年間タイミング法での妊活をしたがダメ。産婦人科で診断を受けると、クニオの精子の運動率が20％という絶望的な数字がでてしまう・・・といったところから始まる物語は、原作者の実体験に基づいている。この手の実録映画は、まあ、いっちゃなんだが、映画としての出来栄えはそこそこのところで、可もなく不可もなしというのが通り相場。この映画も・・・と侮っていると、意外にも面白かった！そりゃまぁ、いくつかの難点はあるものの、基本的な部分が真面目なので、ちょっとしたくすぐりも、夫婦ふたりの生真面目さに赦しちゃう、って感じ。ヒキタさんは自分の睾丸を「駄目金玉」と称し、担当編集者（濱田岳）が次から次へと相手を妊娠させるのを苦々しく思っているけれども、やれることはやる！とばかりに隊長の維持に努め、果ては民間療法でもなんでもやる。とにかく、原因が男性側にある場合は（この場合は精子の運動率だが）、どうも薬事治療などはないようで、ここいらあたりは本当にもどかしい。原因が自分にあるにもかかわらず、妻のサチがベッドに寝かされ、施術を受けるのをみて歯がゆく苦悩するあたりの描写が秀逸。夫も妻も互いに相手のことを慮っていることが十二分に伝わる佳作といえます。ただし、気になったのはヒキタさんのモノローグが多用されている点で、松重豊のモノローグといえば、どうしても『孤独のグルメ』を思い出していしまうので、これはあまりよくない演出だと思うのですが・・・ \n",
      " 私もそろそろ三十路、疋田夫婦と同じで我が家もぼちぼちな歳の差夫婦ですが、子作りはどうするもんかと悩んでおります。この映画、老若男女問わず楽しめる作品です。ご懐妊というダイレクトなタイトルに観客層はどんなもんだと思いきや、老いも若きも夫婦カップルをはじめ、女友達で、はたまた男性1人で…笑い泣いていました。私も劇場であれほどジーンときたのは久しぶりでした。ハンカチ持っていっておいて良かった。産まれてきたこと、健康で在ること、そして人を好きでいること有り難みをしみじみ感じました。 \n",
      " 笑けてちょっと泣けた。よかったね！ヒキタさんっ感情移入しまくりでした。愛し愛されて生きるのさ \n",
      " 松重さんが好きな自分はずっと楽しみにしていました！予告だとかなりポップで笑える作品だと思っていたけど実際はポップな部分よりもシリアスな部分でつらい部分が﻿多くて意外な印象でした。﻿避妊治療がテーマでポップすぎるのも嘘くさいので﻿逆に良かったと思います。﻿妊活だけどエロい部分は一切ない爽やかな作品で﻿普段あまり考える機会のない不妊治療について﻿もっと知りたいと思いました。﻿﻿年の差婚のふたりは子どもは作らず楽しく過ごしていたが妻の「ヒキタさんの子どもに会いたい」という突然の一言ですべてが変わった。﻿しかしなかなか妊娠せず検査を受けた結果、﻿ヒキタさんの精子は8割動いていない状態で﻿妊娠は難しいという。﻿ダメ金玉から抜け出す！﻿ふたりの妊活がはじまる。﻿産婦人科にヒキタさんだけが精子の提出に行ったとき周りは女性だけしかいなく居心地の悪く椅子に座って待っていたり﻿や看護婦さんがヒキタさんの立場を考えずに周りに聞こえる声で「精子の検査ですね」と大きい声で﻿言ったり男性からしたらこわいシーンもリアルでした。﻿﻿一喜一憂。﻿ふたりについにと思ったら…だったり﻿泣いたりもがいている姿が痛々しく映っている。﻿桜の木の下からはじまり桜の木の下で終わるり﻿心が温まります。だからこそラストはもう少しゆっくら観たかった。﻿ \n",
      " 話の広がりが無くワンパターンな展開に途中で飽きてしまい時間も長く感じた。夫婦設定にも違和感があり北川景子の良さが全く生かされていない印象。不妊治療を題材とした作品だけに観るものを選ぶようにも感じた。残念ながら不満の残る内容でした。2019-215 \n",
      " ということは、非常に単純であるけど、複雑なことですね。自分はすぐにできたので、こんな苦労は無かったですが、頭が下がります。この夫婦の会話はとても素敵です。 \n",
      "  ネタバレ！ クリックして本文を読む  １回目のダメだった時、昔の自分が過ってしまいました。お腹の中で育ってなくて流れてしまいました。そんな時の女はホントは弱いものなんですよ。ヒキタさん(^^)しかし、世の中、虐待等で子供を亡くしてしまう事件が多すぎます。そう思うとムカついた感情が湧きました。なぜ子供が欲しい所には出来なくて、そうじゃなくてもいいような所には簡単に出来るんだろうって思い、改めて悔しく思えた作品でした。 \n"
     ]
    },
    {
     "ename": "KeyError",
     "evalue": "'href'",
     "output_type": "error",
     "traceback": [
      "\u001b[0;31m---------------------------------------------------------------------------\u001b[0m",
      "\u001b[0;31mKeyError\u001b[0m                                  Traceback (most recent call last)",
      "\u001b[0;32m<ipython-input-46-778ddca8a455>\u001b[0m in \u001b[0;36m<module>\u001b[0;34m\u001b[0m\n\u001b[1;32m     12\u001b[0m \u001b[0mclass_link\u001b[0m \u001b[0;34m=\u001b[0m \u001b[0msoup\u001b[0m\u001b[0;34m.\u001b[0m\u001b[0mfind_all\u001b[0m\u001b[0;34m(\u001b[0m\u001b[0mclass_\u001b[0m\u001b[0;34m=\u001b[0m\u001b[0;34m\"pagination\"\u001b[0m\u001b[0;34m)\u001b[0m\u001b[0;34m\u001b[0m\u001b[0;34m\u001b[0m\u001b[0m\n\u001b[1;32m     13\u001b[0m \u001b[0;32mfor\u001b[0m \u001b[0ma\u001b[0m \u001b[0;32min\u001b[0m \u001b[0mclass_link\u001b[0m\u001b[0;34m:\u001b[0m\u001b[0;34m\u001b[0m\u001b[0;34m\u001b[0m\u001b[0m\n\u001b[0;32m---> 14\u001b[0;31m     \u001b[0mNextUrl\u001b[0m \u001b[0;34m=\u001b[0m \u001b[0ma\u001b[0m\u001b[0;34m.\u001b[0m\u001b[0mattrs\u001b[0m\u001b[0;34m[\u001b[0m\u001b[0;34m\"href\"\u001b[0m\u001b[0;34m]\u001b[0m\u001b[0;34m\u001b[0m\u001b[0;34m\u001b[0m\u001b[0m\n\u001b[0m\u001b[1;32m     15\u001b[0m     \u001b[0mprint\u001b[0m\u001b[0;34m(\u001b[0m\u001b[0mNextUrl\u001b[0m\u001b[0;34m)\u001b[0m\u001b[0;34m\u001b[0m\u001b[0;34m\u001b[0m\u001b[0m\n",
      "\u001b[0;31mKeyError\u001b[0m: 'href'"
     ]
    }
   ],
   "source": [
    "urls  = \"https://eiga.com/movie/91010/review/\"\n",
    "html = urlopen(urls)\n",
    "soup = BeautifulSoup(html,\"html.parser\")\n",
    "count,num_count = 0,0\n",
    "\n",
    "Previous_url = \"\"\n",
    "reviews_list=[]\n",
    "\n",
    "review = soup(class_=\"txt-block\")\n",
    "for i in review:\n",
    "    print(i.text)\n",
    "class_link = soup.find_all(class_=\"pagination\")\n",
    "for a in class_link:\n",
    "    NextUrl = a.attrs[\"href\"]\n",
    "    print(NextUrl)"
   ]
  },
  {
   "cell_type": "code",
   "execution_count": 33,
   "metadata": {},
   "outputs": [
    {
     "ename": "KeyError",
     "evalue": "'href'",
     "output_type": "error",
     "traceback": [
      "\u001b[0;31m---------------------------------------------------------------------------\u001b[0m",
      "\u001b[0;31mKeyError\u001b[0m                                  Traceback (most recent call last)",
      "\u001b[0;32m<ipython-input-33-5ff5531f2d01>\u001b[0m in \u001b[0;36m<module>\u001b[0;34m\u001b[0m\n\u001b[1;32m      2\u001b[0m \u001b[0mclass_link\u001b[0m \u001b[0;34m=\u001b[0m \u001b[0msoup\u001b[0m\u001b[0;34m.\u001b[0m\u001b[0mfind_all\u001b[0m\u001b[0;34m(\u001b[0m\u001b[0mclass_\u001b[0m\u001b[0;34m=\u001b[0m\u001b[0;34m\"pagination\"\u001b[0m\u001b[0;34m)\u001b[0m\u001b[0;34m\u001b[0m\u001b[0;34m\u001b[0m\u001b[0m\n\u001b[1;32m      3\u001b[0m \u001b[0;32mfor\u001b[0m \u001b[0ma\u001b[0m \u001b[0;32min\u001b[0m \u001b[0mclass_link\u001b[0m\u001b[0;34m:\u001b[0m\u001b[0;34m\u001b[0m\u001b[0;34m\u001b[0m\u001b[0m\n\u001b[0;32m----> 4\u001b[0;31m     \u001b[0mNextUrl\u001b[0m \u001b[0;34m=\u001b[0m \u001b[0ma\u001b[0m\u001b[0;34m.\u001b[0m\u001b[0mattrs\u001b[0m\u001b[0;34m[\u001b[0m\u001b[0;34m\"href\"\u001b[0m\u001b[0;34m]\u001b[0m\u001b[0;34m\u001b[0m\u001b[0;34m\u001b[0m\u001b[0m\n\u001b[0m\u001b[1;32m      5\u001b[0m     \u001b[0mprint\u001b[0m\u001b[0;34m(\u001b[0m\u001b[0mNextUrl\u001b[0m\u001b[0;34m)\u001b[0m\u001b[0;34m\u001b[0m\u001b[0;34m\u001b[0m\u001b[0m\n",
      "\u001b[0;31mKeyError\u001b[0m: 'href'"
     ]
    }
   ],
   "source": [
    "#NextUrl = soup.find_all(\"a\")\n",
    "class_link = soup.find_all(class_=\"pagination\")\n",
    "for a in class_link:\n",
    "    NextUrl = a.attrs[\"href\"]\n",
    "    print(NextUrl)"
   ]
  },
  {
   "cell_type": "code",
   "execution_count": 39,
   "metadata": {},
   "outputs": [
    {
     "name": "stdout",
     "output_type": "stream",
     "text": [
      "None\n"
     ]
    }
   ],
   "source": [
    "class_link = soup.find_all(class_=\"page-nav\")\n",
    "for a in class_link:\n",
    "    next_urls = a.get('href')\n",
    "    print(next_urls)"
   ]
  },
  {
   "cell_type": "code",
   "execution_count": null,
   "metadata": {},
   "outputs": [],
   "source": []
  },
  {
   "cell_type": "code",
   "execution_count": null,
   "metadata": {},
   "outputs": [],
   "source": []
  },
  {
   "cell_type": "code",
   "execution_count": null,
   "metadata": {},
   "outputs": [],
   "source": []
  }
 ],
 "metadata": {
  "kernelspec": {
   "display_name": "Python 3",
   "language": "python",
   "name": "python3"
  },
  "language_info": {
   "codemirror_mode": {
    "name": "ipython",
    "version": 3
   },
   "file_extension": ".py",
   "mimetype": "text/x-python",
   "name": "python",
   "nbconvert_exporter": "python",
   "pygments_lexer": "ipython3",
   "version": "3.7.3"
  }
 },
 "nbformat": 4,
 "nbformat_minor": 2
}
